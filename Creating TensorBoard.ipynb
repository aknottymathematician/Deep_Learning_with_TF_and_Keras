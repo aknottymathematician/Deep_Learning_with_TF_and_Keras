{
 "cells": [
  {
   "cell_type": "code",
   "execution_count": 1,
   "id": "4eb41f99",
   "metadata": {},
   "outputs": [],
   "source": [
    "import tensorflow as tf\n",
    "from tensorflow.keras.models import Sequential\n",
    "from tensorflow.keras.layers import Dense, Dropout, Activation, Flatten, Conv2D, MaxPooling2D\n",
    "import pickle\n",
    "import numpy as np\n",
    "from tensorflow.keras.callbacks import TensorBoard\n",
    "import time"
   ]
  },
  {
   "cell_type": "code",
   "execution_count": 2,
   "id": "e14d1132",
   "metadata": {},
   "outputs": [],
   "source": [
    "NAME = \"Cats-vs-dogs-cnn-64x2-{}\".format(int(time.time()))"
   ]
  },
  {
   "cell_type": "code",
   "execution_count": 4,
   "id": "b4232060",
   "metadata": {},
   "outputs": [],
   "source": [
    "tensorboard = TensorBoard(log_dir=\"logs/{}\".format(NAME))"
   ]
  },
  {
   "cell_type": "code",
   "execution_count": 5,
   "id": "d138154d",
   "metadata": {},
   "outputs": [],
   "source": [
    "X = pickle.load(open(\"X.pickle\",\"rb\"))\n",
    "y = pickle.load(open(\"y.pickle\",\"rb\"))\n",
    "\n",
    "X = np.array(X/255.0)\n",
    "y = np.array(y)\n"
   ]
  },
  {
   "cell_type": "code",
   "execution_count": 8,
   "id": "ab7c1249",
   "metadata": {},
   "outputs": [],
   "source": [
    "model = Sequential()\n",
    "\n",
    "model.add(Conv2D(64,(3,3), input_shape = X.shape[1:]))\n",
    "model.add(Activation(\"relu\"))\n",
    "model.add(MaxPooling2D(pool_size=(2,2)))\n",
    "\n",
    "model.add(Conv2D(64,(3,3), input_shape = X.shape[1:]))\n",
    "model.add(Activation(\"relu\"))\n",
    "model.add(MaxPooling2D(pool_size=(2,2)))\n",
    "\n",
    "\n",
    "model.add(Flatten()) #this converts our 3D feature maps to 1D feature vectors\n",
    "\n",
    "\n",
    "model.add(Dense(1))\n",
    "model.add(Activation(\"sigmoid\"))\n",
    "\n",
    "model.compile(loss=\"binary_crossentropy\",\n",
    "            optimizer=\"adam\",\n",
    "            metrics=[\"accuracy\"])"
   ]
  },
  {
   "cell_type": "code",
   "execution_count": 9,
   "id": "6bcb24c4",
   "metadata": {
    "scrolled": true
   },
   "outputs": [
    {
     "name": "stdout",
     "output_type": "stream",
     "text": [
      "Epoch 1/10\n",
      "702/702 [==============================] - 24s 33ms/step - loss: 0.6532 - accuracy: 0.5977 - val_loss: 0.5965 - val_accuracy: 0.6729\n",
      "Epoch 2/10\n",
      "702/702 [==============================] - 24s 34ms/step - loss: 0.5383 - accuracy: 0.7269 - val_loss: 0.5004 - val_accuracy: 0.7615\n",
      "Epoch 3/10\n",
      "702/702 [==============================] - 24s 35ms/step - loss: 0.4892 - accuracy: 0.7713 - val_loss: 0.4878 - val_accuracy: 0.7691\n",
      "Epoch 4/10\n",
      "702/702 [==============================] - 24s 34ms/step - loss: 0.4620 - accuracy: 0.7821 - val_loss: 0.4633 - val_accuracy: 0.7856\n",
      "Epoch 5/10\n",
      "702/702 [==============================] - 24s 34ms/step - loss: 0.4316 - accuracy: 0.7986 - val_loss: 0.4557 - val_accuracy: 0.7892\n",
      "Epoch 6/10\n",
      "702/702 [==============================] - 25s 35ms/step - loss: 0.4171 - accuracy: 0.8095 - val_loss: 0.4588 - val_accuracy: 0.7912\n",
      "Epoch 7/10\n",
      "702/702 [==============================] - 25s 35ms/step - loss: 0.3977 - accuracy: 0.8211 - val_loss: 0.4437 - val_accuracy: 0.7948\n",
      "Epoch 8/10\n",
      "702/702 [==============================] - 24s 35ms/step - loss: 0.3739 - accuracy: 0.8349 - val_loss: 0.4482 - val_accuracy: 0.7932\n",
      "Epoch 9/10\n",
      "702/702 [==============================] - 23s 33ms/step - loss: 0.3688 - accuracy: 0.8374 - val_loss: 0.4391 - val_accuracy: 0.8024\n",
      "Epoch 10/10\n",
      "702/702 [==============================] - 24s 34ms/step - loss: 0.3450 - accuracy: 0.8496 - val_loss: 0.4417 - val_accuracy: 0.7996\n"
     ]
    },
    {
     "data": {
      "text/plain": [
       "<tensorflow.python.keras.callbacks.History at 0x7f7ae5a45ed0>"
      ]
     },
     "execution_count": 9,
     "metadata": {},
     "output_type": "execute_result"
    }
   ],
   "source": [
    "model.fit(X, y, batch_size=32, validation_split=0.1, epochs =10, callbacks=[tensorboard])"
   ]
  },
  {
   "cell_type": "code",
   "execution_count": null,
   "id": "581f5dd3",
   "metadata": {},
   "outputs": [],
   "source": []
  }
 ],
 "metadata": {
  "kernelspec": {
   "display_name": "akm_code",
   "language": "python",
   "name": "akm_code"
  },
  "language_info": {
   "codemirror_mode": {
    "name": "ipython",
    "version": 3
   },
   "file_extension": ".py",
   "mimetype": "text/x-python",
   "name": "python",
   "nbconvert_exporter": "python",
   "pygments_lexer": "ipython3",
   "version": "3.7.10"
  }
 },
 "nbformat": 4,
 "nbformat_minor": 5
}
